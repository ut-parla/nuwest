{
 "cells": [
  {
   "cell_type": "code",
   "execution_count": 3,
   "metadata": {},
   "outputs": [
    {
     "name": "stdout",
     "output_type": "stream",
     "text": [
      "\n",
      " Launching main Parla task to run for 10 steps\n",
      "\n",
      "Launch Kernel 1\n"
     ]
    },
    {
     "ename": "FileNotFoundError",
     "evalue": "[Errno 2] No such file or directory: '/tmp/ipykernel_528/2858469234.py'",
     "output_type": "error",
     "traceback": [
      "\u001b[0;31m---------------------------------------------------------------------------\u001b[0m",
      "\u001b[0;31mFileNotFoundError\u001b[0m                         Traceback (most recent call last)",
      "Cell \u001b[0;32mIn[3], line 80\u001b[0m\n\u001b[1;32m     76\u001b[0m d_E_ar \u001b[38;5;241m=\u001b[39m pk\u001b[38;5;241m.\u001b[39marray(E_ar)\n\u001b[1;32m     78\u001b[0m \u001b[38;5;28mprint\u001b[39m(\u001b[38;5;124m\"\u001b[39m\u001b[38;5;130;01m\\n\u001b[39;00m\u001b[38;5;124m Launching main Parla task to run for\u001b[39m\u001b[38;5;124m\"\u001b[39m, num_steps, \u001b[38;5;124m\"\u001b[39m\u001b[38;5;124msteps\u001b[39m\u001b[38;5;130;01m\\n\u001b[39;00m\u001b[38;5;124m\"\u001b[39m)\n\u001b[0;32m---> 80\u001b[0m \u001b[43madvect\u001b[49m\u001b[43m(\u001b[49m\u001b[43mN\u001b[49m\u001b[43m,\u001b[49m\u001b[43m \u001b[49m\u001b[43md_x_ar\u001b[49m\u001b[43m,\u001b[49m\u001b[43m \u001b[49m\u001b[43md_v_ar\u001b[49m\u001b[43m,\u001b[49m\u001b[43m \u001b[49m\u001b[43md_E_ar\u001b[49m\u001b[43m,\u001b[49m\u001b[43m \u001b[49m\u001b[43mthreads_per_block\u001b[49m\u001b[43m,\u001b[49m\u001b[43m \u001b[49m\u001b[43mnum_blocks\u001b[49m\u001b[43m,\u001b[49m\u001b[43m \u001b[49m\u001b[38;5;241;43m1\u001b[39;49m\u001b[43m)\u001b[49m\n",
      "Cell \u001b[0;32mIn[3], line 53\u001b[0m, in \u001b[0;36madvect\u001b[0;34m(Nc, d_x_ar, d_v_ar, d_E_ar, threads_per_block, num_blocks, i)\u001b[0m\n\u001b[1;32m     51\u001b[0m \u001b[38;5;28mprint\u001b[39m(\u001b[38;5;124m\"\u001b[39m\u001b[38;5;124mLaunch Kernel\u001b[39m\u001b[38;5;124m\"\u001b[39m, i, flush\u001b[38;5;241m=\u001b[39m\u001b[38;5;28;01mTrue\u001b[39;00m)\n\u001b[1;32m     52\u001b[0m \u001b[38;5;66;03m# Launch PyKokkos kernel\u001b[39;00m\n\u001b[0;32m---> 53\u001b[0m \u001b[43mpk\u001b[49m\u001b[38;5;241;43m.\u001b[39;49m\u001b[43mparallel_for\u001b[49m\u001b[43m(\u001b[49m\n\u001b[1;32m     54\u001b[0m \u001b[43m    \u001b[49m\u001b[43mnum_threads\u001b[49m\u001b[43m,\u001b[49m\n\u001b[1;32m     55\u001b[0m \u001b[43m    \u001b[49m\u001b[43mpk_advection_kernel\u001b[49m\u001b[43m,\u001b[49m\n\u001b[1;32m     56\u001b[0m \u001b[43m    \u001b[49m\u001b[43mNc\u001b[49m\u001b[38;5;241;43m=\u001b[39;49m\u001b[43mNc\u001b[49m\u001b[43m,\u001b[49m\n\u001b[1;32m     57\u001b[0m \u001b[43m    \u001b[49m\u001b[43md_x_ar\u001b[49m\u001b[38;5;241;43m=\u001b[39;49m\u001b[43md_x_ar\u001b[49m\u001b[43m,\u001b[49m\n\u001b[1;32m     58\u001b[0m \u001b[43m    \u001b[49m\u001b[43md_v_ar\u001b[49m\u001b[38;5;241;43m=\u001b[39;49m\u001b[43md_v_ar\u001b[49m\u001b[43m,\u001b[49m\n\u001b[1;32m     59\u001b[0m \u001b[43m    \u001b[49m\u001b[43md_E_ar\u001b[49m\u001b[38;5;241;43m=\u001b[39;49m\u001b[43md_E_ar\u001b[49m\u001b[43m,\u001b[49m\n\u001b[1;32m     60\u001b[0m \u001b[43m    \u001b[49m\u001b[43mstride\u001b[49m\u001b[38;5;241;43m=\u001b[39;49m\u001b[43mnum_threads\u001b[49m\u001b[43m,\u001b[49m\n\u001b[1;32m     61\u001b[0m \u001b[43m\u001b[49m\u001b[43m)\u001b[49m\n\u001b[1;32m     62\u001b[0m \u001b[38;5;28mprint\u001b[39m(\u001b[38;5;124m\"\u001b[39m\u001b[38;5;124mFinish Kernel\u001b[39m\u001b[38;5;124m\"\u001b[39m, i, flush\u001b[38;5;241m=\u001b[39m\u001b[38;5;28;01mTrue\u001b[39;00m)\n",
      "File \u001b[0;32m~/mambaforge/lib/python3.11/site-packages/pykokkos/interface/parallel_dispatch.py:57\u001b[0m, in \u001b[0;36mparallel_for\u001b[0;34m(*args, **kwargs)\u001b[0m\n\u001b[1;32m     40\u001b[0m \u001b[38;5;250m\u001b[39m\u001b[38;5;124;03m\"\"\"\u001b[39;00m\n\u001b[1;32m     41\u001b[0m \u001b[38;5;124;03mRun a parallel for loop\u001b[39;00m\n\u001b[1;32m     42\u001b[0m \n\u001b[0;32m   (...)\u001b[0m\n\u001b[1;32m     52\u001b[0m \u001b[38;5;124;03m    workunit\u001b[39;00m\n\u001b[1;32m     53\u001b[0m \u001b[38;5;124;03m\"\"\"\u001b[39;00m\n\u001b[1;32m     55\u001b[0m handled_args: HandledArgs \u001b[38;5;241m=\u001b[39m handle_args(\u001b[38;5;28;01mTrue\u001b[39;00m, args)\n\u001b[0;32m---> 57\u001b[0m func, args \u001b[38;5;241m=\u001b[39m \u001b[43mruntime_singleton\u001b[49m\u001b[38;5;241;43m.\u001b[39;49m\u001b[43mruntime\u001b[49m\u001b[38;5;241;43m.\u001b[39;49m\u001b[43mrun_workunit\u001b[49m\u001b[43m(\u001b[49m\n\u001b[1;32m     58\u001b[0m \u001b[43m    \u001b[49m\u001b[43mhandled_args\u001b[49m\u001b[38;5;241;43m.\u001b[39;49m\u001b[43mname\u001b[49m\u001b[43m,\u001b[49m\n\u001b[1;32m     59\u001b[0m \u001b[43m    \u001b[49m\u001b[43mhandled_args\u001b[49m\u001b[38;5;241;43m.\u001b[39;49m\u001b[43mpolicy\u001b[49m\u001b[43m,\u001b[49m\n\u001b[1;32m     60\u001b[0m \u001b[43m    \u001b[49m\u001b[43mhandled_args\u001b[49m\u001b[38;5;241;43m.\u001b[39;49m\u001b[43mworkunit\u001b[49m\u001b[43m,\u001b[49m\n\u001b[1;32m     61\u001b[0m \u001b[43m    \u001b[49m\u001b[38;5;124;43m\"\u001b[39;49m\u001b[38;5;124;43mfor\u001b[39;49m\u001b[38;5;124;43m\"\u001b[39;49m\u001b[43m,\u001b[49m\n\u001b[1;32m     62\u001b[0m \u001b[43m    \u001b[49m\u001b[38;5;241;43m*\u001b[39;49m\u001b[38;5;241;43m*\u001b[39;49m\u001b[43mkwargs\u001b[49m\u001b[43m)\u001b[49m\n\u001b[1;32m     64\u001b[0m \u001b[38;5;66;03m# workunit_cache[cache_key] = (func, args)\u001b[39;00m\n\u001b[1;32m     65\u001b[0m func(\u001b[38;5;241m*\u001b[39m\u001b[38;5;241m*\u001b[39margs)\n",
      "File \u001b[0;32m~/mambaforge/lib/python3.11/site-packages/pykokkos/core/runtime.py:138\u001b[0m, in \u001b[0;36mRuntime.run_workunit\u001b[0;34m(self, name, policy, workunit, operation, initial_value, **kwargs)\u001b[0m\n\u001b[1;32m    135\u001b[0m \u001b[38;5;28;01melse\u001b[39;00m:\n\u001b[1;32m    136\u001b[0m     source_path \u001b[38;5;241m=\u001b[39m get_metadata(workunit)\u001b[38;5;241m.\u001b[39mpath\n\u001b[0;32m--> 138\u001b[0m parser \u001b[38;5;241m=\u001b[39m \u001b[38;5;28;43mself\u001b[39;49m\u001b[38;5;241;43m.\u001b[39;49m\u001b[43mcompiler\u001b[49m\u001b[38;5;241;43m.\u001b[39;49m\u001b[43mget_parser\u001b[49m\u001b[43m(\u001b[49m\u001b[43msource_path\u001b[49m\u001b[43m)\u001b[49m\n\u001b[1;32m    140\u001b[0m updated_types: Optional[UpdatedTypes]\n\u001b[1;32m    141\u001b[0m updated_decorator: Optional[UpdatedDecorator]\n",
      "File \u001b[0;32m~/mambaforge/lib/python3.11/site-packages/pykokkos/core/compiler.py:387\u001b[0m, in \u001b[0;36mCompiler.get_parser\u001b[0;34m(self, path)\u001b[0m\n\u001b[1;32m    384\u001b[0m \u001b[38;5;28;01mif\u001b[39;00m path \u001b[38;5;129;01min\u001b[39;00m \u001b[38;5;28mself\u001b[39m\u001b[38;5;241m.\u001b[39mparser_cache:\n\u001b[1;32m    385\u001b[0m     \u001b[38;5;28;01mreturn\u001b[39;00m \u001b[38;5;28mself\u001b[39m\u001b[38;5;241m.\u001b[39mparser_cache[path]\n\u001b[0;32m--> 387\u001b[0m parser \u001b[38;5;241m=\u001b[39m \u001b[43mParser\u001b[49m\u001b[43m(\u001b[49m\u001b[43mpath\u001b[49m\u001b[43m)\u001b[49m\n\u001b[1;32m    388\u001b[0m \u001b[38;5;28mself\u001b[39m\u001b[38;5;241m.\u001b[39mparser_cache[path] \u001b[38;5;241m=\u001b[39m parser\n\u001b[1;32m    390\u001b[0m \u001b[38;5;28;01mreturn\u001b[39;00m parser\n",
      "File \u001b[0;32m~/mambaforge/lib/python3.11/site-packages/pykokkos/core/parsers/parser.py:49\u001b[0m, in \u001b[0;36mParser.__init__\u001b[0;34m(self, path)\u001b[0m\n\u001b[1;32m     47\u001b[0m \u001b[38;5;28mself\u001b[39m\u001b[38;5;241m.\u001b[39mlines: List[\u001b[38;5;28mstr\u001b[39m]\n\u001b[1;32m     48\u001b[0m \u001b[38;5;28mself\u001b[39m\u001b[38;5;241m.\u001b[39mtree: ast\u001b[38;5;241m.\u001b[39mModule\n\u001b[0;32m---> 49\u001b[0m \u001b[38;5;28;01mwith\u001b[39;00m \u001b[38;5;28;43mopen\u001b[39;49m\u001b[43m(\u001b[49m\u001b[43mpath\u001b[49m\u001b[43m,\u001b[49m\u001b[43m \u001b[49m\u001b[38;5;124;43m\"\u001b[39;49m\u001b[38;5;124;43mr\u001b[39;49m\u001b[38;5;124;43m\"\u001b[39;49m\u001b[43m)\u001b[49m \u001b[38;5;28;01mas\u001b[39;00m f:\n\u001b[1;32m     50\u001b[0m     \u001b[38;5;28mself\u001b[39m\u001b[38;5;241m.\u001b[39mlines \u001b[38;5;241m=\u001b[39m f\u001b[38;5;241m.\u001b[39mreadlines()\n\u001b[1;32m     51\u001b[0m     \u001b[38;5;28mself\u001b[39m\u001b[38;5;241m.\u001b[39mtree \u001b[38;5;241m=\u001b[39m ast\u001b[38;5;241m.\u001b[39mparse(\u001b[38;5;124m\"\u001b[39m\u001b[38;5;124m\"\u001b[39m\u001b[38;5;241m.\u001b[39mjoin(\u001b[38;5;28mself\u001b[39m\u001b[38;5;241m.\u001b[39mlines))\n",
      "\u001b[0;31mFileNotFoundError\u001b[0m: [Errno 2] No such file or directory: '/tmp/ipykernel_528/2858469234.py'"
     ]
    }
   ],
   "source": [
    "import pykokkos as pk\n",
    "import numpy as np\n",
    "\n",
    "\n",
    "@pk.workunit()\n",
    "# d_x_ar,\n",
    "# d_v_ar,\n",
    "# d_E_ar,\n",
    "# d_x_ar=pk.ViewTypeInfo(space=pk.HostSpace),\n",
    "# d_v_ar=pk.ViewTypeInfo(space=pk.HostSpace),\n",
    "# d_E_ar=pk.ViewTypeInfo(space=pk.HostSpace),\n",
    "# )\n",
    "def pk_advection_kernel(\n",
    "    tid: int,\n",
    "    Nc: int,\n",
    "    d_x_ar: pk.View1D[float],\n",
    "    d_v_ar: pk.View1D[float],\n",
    "    d_E_ar: pk.View1D[float],\n",
    "    stride: int,\n",
    "):\n",
    "    # Looping and doing all the particles\n",
    "    for i in range(tid, Nc, stride):\n",
    "        if i == 0:\n",
    "            printf(\"hi from kernel \\n\")\n",
    "        d_x: float = d_x_ar[i]\n",
    "        d_v: float = d_v_ar[i]\n",
    "        d_E: float = d_E_ar[i]\n",
    "\n",
    "        # Advection in v-space\n",
    "        d_v += d_E\n",
    "\n",
    "        # Advection in x-space\n",
    "        d_x += d_v\n",
    "\n",
    "        # Reflective boundary condition\n",
    "        if d_x > 1:\n",
    "            d_x = 1 - (d_x - 1)\n",
    "            d_v = -d_v\n",
    "        elif d_x < 0:\n",
    "            d_x = -d_x\n",
    "            d_v = -d_v\n",
    "\n",
    "        # Put data back into arrays\n",
    "        d_x_ar[i] = d_x\n",
    "        d_v_ar[i] = d_v\n",
    "        d_E_ar[i] = d_E\n",
    "\n",
    "\n",
    "def advect(Nc, d_x_ar, d_v_ar, d_E_ar, threads_per_block, num_blocks, i):\n",
    "    num_threads: int = num_blocks * threads_per_block\n",
    "    print(\"Launch Kernel\", i, flush=True)\n",
    "    # Launch PyKokkos kernel\n",
    "    pk.parallel_for(\n",
    "        num_threads,\n",
    "        pk_advection_kernel,\n",
    "        Nc=Nc,\n",
    "        d_x_ar=d_x_ar,\n",
    "        d_v_ar=d_v_ar,\n",
    "        d_E_ar=d_E_ar,\n",
    "        stride=num_threads,\n",
    "    )\n",
    "    print(\"Finish Kernel\", i, flush=True)\n",
    "\n",
    "threads_per_block = 64\n",
    "num_blocks = 1024\n",
    "\n",
    "N = 100000\n",
    "num_steps = 10\n",
    "\n",
    "x_ar = np.random.rand(N)\n",
    "v_ar = 0.01 * np.random.rand(N)\n",
    "E_ar = np.zeros(N)\n",
    "\n",
    "d_x_ar = pk.array(x_ar)\n",
    "d_v_ar = pk.array(v_ar)\n",
    "d_E_ar = pk.array(E_ar)\n",
    "\n",
    "print(\"\\n Launching main Parla task to run for\", num_steps, \"steps\\n\")\n",
    "\n",
    "advect(N, d_x_ar, d_v_ar, d_E_ar, threads_per_block, num_blocks, 1)"
   ]
  },
  {
   "cell_type": "code",
   "execution_count": null,
   "metadata": {},
   "outputs": [],
   "source": []
  }
 ],
 "metadata": {
  "kernelspec": {
   "display_name": "Python 3 (ipykernel)",
   "language": "python",
   "name": "python3"
  },
  "language_info": {
   "codemirror_mode": {
    "name": "ipython",
    "version": 3
   },
   "file_extension": ".py",
   "mimetype": "text/x-python",
   "name": "python",
   "nbconvert_exporter": "python",
   "pygments_lexer": "ipython3",
   "version": "3.11.7"
  }
 },
 "nbformat": 4,
 "nbformat_minor": 2
}
