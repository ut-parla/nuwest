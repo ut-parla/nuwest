{
 "cells": [
  {
   "cell_type": "markdown",
   "metadata": {
    "notebookRunGroups": {
     "groupValue": ""
    }
   },
   "source": [
    "# Tutorial 01: Introduction to Parla\n",
    "\n",
    "This tutorial introduces what Parla is and some of its core abstractions such as 'Tasks', 'TaskSpaces', 'Devices'. \n"
   ]
  },
  {
   "cell_type": "markdown",
   "metadata": {},
   "source": [
    "## Installation\n",
    "\n",
    "Hopefully you have already installed Parla as described in the [README](../../../README.md) or are using a provided Docker container.\n",
    "If not, please do so now.\n",
    "\n",
    "To install Parla, you will need to clone the repository and install it using pip.\n",
    "```bash\n",
    "git clone https://github.com/ut-parla/parla-experimental.git\n",
    "cd parla-experimental\n",
    "git submodule update --init --recursive\n",
    "pip install -e .\n",
    "```\n"
   ]
  },
  {
   "cell_type": "markdown",
   "metadata": {},
   "source": [
    "# What is Parla?\n",
    "\n",
    "Parla is a Python library for parallel programming. It is designed to make it easy to write parallel programs that can run on a variety of parallel hardware, including multi-core CPUs, GPUs, on a single node. \n",
    "\n",
    "It is a single-process thread-based runtime for Task-Based parallel programming. "
   ]
  },
  {
   "cell_type": "code",
   "execution_count": null,
   "metadata": {},
   "outputs": [],
   "source": []
  },
  {
   "cell_type": "code",
   "execution_count": null,
   "metadata": {},
   "outputs": [],
   "source": []
  },
  {
   "cell_type": "code",
   "execution_count": 23,
   "metadata": {},
   "outputs": [],
   "source": [
    "from parla import Parla\n",
    "from parla.tasks import spawn, TaskSpace \n",
    "from parla.devices import cpu, gpu \n",
    "\n",
    "from typing import Callable\n",
    "from time import perf_counter"
   ]
  },
  {
   "cell_type": "code",
   "execution_count": 24,
   "metadata": {},
   "outputs": [],
   "source": [
    "def run(function: Callable[[], float], print_time: bool =False):\n",
    "    # Start the Parla runtime\n",
    "    with Parla():\n",
    "        \n",
    "        #Create an encapsulating top-level task to kick off the computation and wait for it to complete.\n",
    "        @spawn(placement=cpu, vcus=0)\n",
    "        async def top_level_task():\n",
    "            \n",
    "            # Run the Parla application and print the time it took if requested.\n",
    "            start_t = perf_counter()\n",
    "            await function()\n",
    "            end_t = perf_counter()\n",
    "            \n",
    "            elapsed = end_t - start_t\n",
    "            if print_time:\n",
    "                print(f\"Execution time: {elapsed} seconds\", flush=True)\n",
    "            return elapsed"
   ]
  },
  {
   "cell_type": "code",
   "execution_count": 40,
   "metadata": {},
   "outputs": [
    {
     "name": "stdout",
     "output_type": "stream",
     "text": [
      "Hello World!\n",
      "Goodbye World!\n"
     ]
    }
   ],
   "source": [
    "async def first_example():\n",
    "    \n",
    "    @spawn()\n",
    "    def task_hello():\n",
    "        print(\"Hello World!\", flush=True)\n",
    "        \n",
    "    @spawn()\n",
    "    def task_goodbye():\n",
    "        print(\"Goodbye World!\", flush=True)\n",
    "\n",
    "\n",
    "run(first_example)"
   ]
  },
  {
   "cell_type": "code",
   "execution_count": null,
   "metadata": {},
   "outputs": [],
   "source": [
    "async def serial_example():\n",
    "    data = np.zeros(1)\n",
    "\n",
    "    T = TaskSpace(\"My First TaskSpace\")\n",
    "    for i in range(5):\n",
    "\n",
    "        @spawn(T[i], dependencies=[T[i - 1]])\n",
    "        def task():\n",
    "            print(\"Hello from task\", i, \"data =\", data[0], flush=True)\n",
    "            data[0] += 1\n",
    "\n",
    "\n",
    "run(serial_example)"
   ]
  },
  {
   "cell_type": "code",
   "execution_count": 57,
   "metadata": {},
   "outputs": [
    {
     "ename": "FileNotFoundError",
     "evalue": "[Errno 2] No such file or directory: '/tmp/ipykernel_93/39138626.py'",
     "output_type": "error",
     "traceback": [
      "\u001b[0;31m---------------------------------------------------------------------------\u001b[0m",
      "\u001b[0;31mFileNotFoundError\u001b[0m                         Traceback (most recent call last)",
      "Cell \u001b[0;32mIn[57], line 33\u001b[0m\n\u001b[1;32m     29\u001b[0m     out \u001b[38;5;241m=\u001b[39m np\u001b[38;5;241m.\u001b[39mempty_like(x)\n\u001b[1;32m     30\u001b[0m     daxpy(\u001b[38;5;241m0\u001b[39m, N, out, \u001b[38;5;241m2.0\u001b[39m, x, y)\n\u001b[0;32m---> 33\u001b[0m \u001b[43mcompile_daxpy\u001b[49m\u001b[43m(\u001b[49m\u001b[43m)\u001b[49m\n\u001b[1;32m     36\u001b[0m \u001b[38;5;28;01masync\u001b[39;00m \u001b[38;5;28;01mdef\u001b[39;00m \u001b[38;5;21mdaxpy_example\u001b[39m():\n\u001b[1;32m     37\u001b[0m     N \u001b[38;5;241m=\u001b[39m \u001b[38;5;241m200000000\u001b[39m\n",
      "Cell \u001b[0;32mIn[57], line 30\u001b[0m, in \u001b[0;36mcompile_daxpy\u001b[0;34m()\u001b[0m\n\u001b[1;32m     28\u001b[0m y \u001b[38;5;241m=\u001b[39m np\u001b[38;5;241m.\u001b[39mrandom\u001b[38;5;241m.\u001b[39mrand(N)\n\u001b[1;32m     29\u001b[0m out \u001b[38;5;241m=\u001b[39m np\u001b[38;5;241m.\u001b[39mempty_like(x)\n\u001b[0;32m---> 30\u001b[0m \u001b[43mdaxpy\u001b[49m\u001b[43m(\u001b[49m\u001b[38;5;241;43m0\u001b[39;49m\u001b[43m,\u001b[49m\u001b[43m \u001b[49m\u001b[43mN\u001b[49m\u001b[43m,\u001b[49m\u001b[43m \u001b[49m\u001b[43mout\u001b[49m\u001b[43m,\u001b[49m\u001b[43m \u001b[49m\u001b[38;5;241;43m2.0\u001b[39;49m\u001b[43m,\u001b[49m\u001b[43m \u001b[49m\u001b[43mx\u001b[49m\u001b[43m,\u001b[49m\u001b[43m \u001b[49m\u001b[43my\u001b[49m\u001b[43m)\u001b[49m\n",
      "Cell \u001b[0;32mIn[57], line 23\u001b[0m, in \u001b[0;36mdaxpy\u001b[0;34m(start, end, out, a, x, y)\u001b[0m\n\u001b[1;32m     21\u001b[0m \u001b[38;5;28;01mdef\u001b[39;00m \u001b[38;5;21mdaxpy\u001b[39m(start: \u001b[38;5;28mint\u001b[39m, end: \u001b[38;5;28mint\u001b[39m, out, a: \u001b[38;5;28mfloat\u001b[39m, x, y):\n\u001b[1;32m     22\u001b[0m     num_threads \u001b[38;5;241m=\u001b[39m \u001b[38;5;241m1\u001b[39m\n\u001b[0;32m---> 23\u001b[0m     \u001b[43mpk\u001b[49m\u001b[38;5;241;43m.\u001b[39;49m\u001b[43mparallel_for\u001b[49m\u001b[43m(\u001b[49m\u001b[43mnum_threads\u001b[49m\u001b[43m,\u001b[49m\u001b[43m \u001b[49m\u001b[43mdaxpy_kernel\u001b[49m\u001b[43m,\u001b[49m\u001b[43m \u001b[49m\u001b[43mstart\u001b[49m\u001b[38;5;241;43m=\u001b[39;49m\u001b[43mstart\u001b[49m\u001b[43m,\u001b[49m\u001b[43m \u001b[49m\u001b[43mend\u001b[49m\u001b[38;5;241;43m=\u001b[39;49m\u001b[43mend\u001b[49m\u001b[43m,\u001b[49m\u001b[43m \u001b[49m\u001b[43mout\u001b[49m\u001b[38;5;241;43m=\u001b[39;49m\u001b[43mout\u001b[49m\u001b[43m,\u001b[49m\u001b[43m \u001b[49m\u001b[43ma\u001b[49m\u001b[38;5;241;43m=\u001b[39;49m\u001b[43ma\u001b[49m\u001b[43m,\u001b[49m\u001b[43m \u001b[49m\u001b[43mx\u001b[49m\u001b[38;5;241;43m=\u001b[39;49m\u001b[43mx\u001b[49m\u001b[43m,\u001b[49m\u001b[43m \u001b[49m\u001b[43my\u001b[49m\u001b[38;5;241;43m=\u001b[39;49m\u001b[43my\u001b[49m\u001b[43m,\u001b[49m\u001b[43m \u001b[49m\u001b[43mstride\u001b[49m\u001b[38;5;241;43m=\u001b[39;49m\u001b[43mnum_threads\u001b[49m\u001b[43m)\u001b[49m\n",
      "File \u001b[0;32m~/mambaforge/lib/python3.11/site-packages/pykokkos/interface/parallel_dispatch.py:57\u001b[0m, in \u001b[0;36mparallel_for\u001b[0;34m(*args, **kwargs)\u001b[0m\n\u001b[1;32m     40\u001b[0m \u001b[38;5;250m\u001b[39m\u001b[38;5;124;03m\"\"\"\u001b[39;00m\n\u001b[1;32m     41\u001b[0m \u001b[38;5;124;03mRun a parallel for loop\u001b[39;00m\n\u001b[1;32m     42\u001b[0m \n\u001b[0;32m   (...)\u001b[0m\n\u001b[1;32m     52\u001b[0m \u001b[38;5;124;03m    workunit\u001b[39;00m\n\u001b[1;32m     53\u001b[0m \u001b[38;5;124;03m\"\"\"\u001b[39;00m\n\u001b[1;32m     55\u001b[0m handled_args: HandledArgs \u001b[38;5;241m=\u001b[39m handle_args(\u001b[38;5;28;01mTrue\u001b[39;00m, args)\n\u001b[0;32m---> 57\u001b[0m func, args \u001b[38;5;241m=\u001b[39m \u001b[43mruntime_singleton\u001b[49m\u001b[38;5;241;43m.\u001b[39;49m\u001b[43mruntime\u001b[49m\u001b[38;5;241;43m.\u001b[39;49m\u001b[43mrun_workunit\u001b[49m\u001b[43m(\u001b[49m\n\u001b[1;32m     58\u001b[0m \u001b[43m    \u001b[49m\u001b[43mhandled_args\u001b[49m\u001b[38;5;241;43m.\u001b[39;49m\u001b[43mname\u001b[49m\u001b[43m,\u001b[49m\n\u001b[1;32m     59\u001b[0m \u001b[43m    \u001b[49m\u001b[43mhandled_args\u001b[49m\u001b[38;5;241;43m.\u001b[39;49m\u001b[43mpolicy\u001b[49m\u001b[43m,\u001b[49m\n\u001b[1;32m     60\u001b[0m \u001b[43m    \u001b[49m\u001b[43mhandled_args\u001b[49m\u001b[38;5;241;43m.\u001b[39;49m\u001b[43mworkunit\u001b[49m\u001b[43m,\u001b[49m\n\u001b[1;32m     61\u001b[0m \u001b[43m    \u001b[49m\u001b[38;5;124;43m\"\u001b[39;49m\u001b[38;5;124;43mfor\u001b[39;49m\u001b[38;5;124;43m\"\u001b[39;49m\u001b[43m,\u001b[49m\n\u001b[1;32m     62\u001b[0m \u001b[43m    \u001b[49m\u001b[38;5;241;43m*\u001b[39;49m\u001b[38;5;241;43m*\u001b[39;49m\u001b[43mkwargs\u001b[49m\u001b[43m)\u001b[49m\n\u001b[1;32m     64\u001b[0m \u001b[38;5;66;03m# workunit_cache[cache_key] = (func, args)\u001b[39;00m\n\u001b[1;32m     65\u001b[0m func(\u001b[38;5;241m*\u001b[39m\u001b[38;5;241m*\u001b[39margs)\n",
      "File \u001b[0;32m~/mambaforge/lib/python3.11/site-packages/pykokkos/core/runtime.py:138\u001b[0m, in \u001b[0;36mRuntime.run_workunit\u001b[0;34m(self, name, policy, workunit, operation, initial_value, **kwargs)\u001b[0m\n\u001b[1;32m    135\u001b[0m \u001b[38;5;28;01melse\u001b[39;00m:\n\u001b[1;32m    136\u001b[0m     source_path \u001b[38;5;241m=\u001b[39m get_metadata(workunit)\u001b[38;5;241m.\u001b[39mpath\n\u001b[0;32m--> 138\u001b[0m parser \u001b[38;5;241m=\u001b[39m \u001b[38;5;28;43mself\u001b[39;49m\u001b[38;5;241;43m.\u001b[39;49m\u001b[43mcompiler\u001b[49m\u001b[38;5;241;43m.\u001b[39;49m\u001b[43mget_parser\u001b[49m\u001b[43m(\u001b[49m\u001b[43msource_path\u001b[49m\u001b[43m)\u001b[49m\n\u001b[1;32m    140\u001b[0m updated_types: Optional[UpdatedTypes]\n\u001b[1;32m    141\u001b[0m updated_decorator: Optional[UpdatedDecorator]\n",
      "File \u001b[0;32m~/mambaforge/lib/python3.11/site-packages/pykokkos/core/compiler.py:387\u001b[0m, in \u001b[0;36mCompiler.get_parser\u001b[0;34m(self, path)\u001b[0m\n\u001b[1;32m    384\u001b[0m \u001b[38;5;28;01mif\u001b[39;00m path \u001b[38;5;129;01min\u001b[39;00m \u001b[38;5;28mself\u001b[39m\u001b[38;5;241m.\u001b[39mparser_cache:\n\u001b[1;32m    385\u001b[0m     \u001b[38;5;28;01mreturn\u001b[39;00m \u001b[38;5;28mself\u001b[39m\u001b[38;5;241m.\u001b[39mparser_cache[path]\n\u001b[0;32m--> 387\u001b[0m parser \u001b[38;5;241m=\u001b[39m \u001b[43mParser\u001b[49m\u001b[43m(\u001b[49m\u001b[43mpath\u001b[49m\u001b[43m)\u001b[49m\n\u001b[1;32m    388\u001b[0m \u001b[38;5;28mself\u001b[39m\u001b[38;5;241m.\u001b[39mparser_cache[path] \u001b[38;5;241m=\u001b[39m parser\n\u001b[1;32m    390\u001b[0m \u001b[38;5;28;01mreturn\u001b[39;00m parser\n",
      "File \u001b[0;32m~/mambaforge/lib/python3.11/site-packages/pykokkos/core/parsers/parser.py:49\u001b[0m, in \u001b[0;36mParser.__init__\u001b[0;34m(self, path)\u001b[0m\n\u001b[1;32m     47\u001b[0m \u001b[38;5;28mself\u001b[39m\u001b[38;5;241m.\u001b[39mlines: List[\u001b[38;5;28mstr\u001b[39m]\n\u001b[1;32m     48\u001b[0m \u001b[38;5;28mself\u001b[39m\u001b[38;5;241m.\u001b[39mtree: ast\u001b[38;5;241m.\u001b[39mModule\n\u001b[0;32m---> 49\u001b[0m \u001b[38;5;28;01mwith\u001b[39;00m \u001b[38;5;28;43mopen\u001b[39;49m\u001b[43m(\u001b[49m\u001b[43mpath\u001b[49m\u001b[43m,\u001b[49m\u001b[43m \u001b[49m\u001b[38;5;124;43m\"\u001b[39;49m\u001b[38;5;124;43mr\u001b[39;49m\u001b[38;5;124;43m\"\u001b[39;49m\u001b[43m)\u001b[49m \u001b[38;5;28;01mas\u001b[39;00m f:\n\u001b[1;32m     50\u001b[0m     \u001b[38;5;28mself\u001b[39m\u001b[38;5;241m.\u001b[39mlines \u001b[38;5;241m=\u001b[39m f\u001b[38;5;241m.\u001b[39mreadlines()\n\u001b[1;32m     51\u001b[0m     \u001b[38;5;28mself\u001b[39m\u001b[38;5;241m.\u001b[39mtree \u001b[38;5;241m=\u001b[39m ast\u001b[38;5;241m.\u001b[39mparse(\u001b[38;5;124m\"\u001b[39m\u001b[38;5;124m\"\u001b[39m\u001b[38;5;241m.\u001b[39mjoin(\u001b[38;5;28mself\u001b[39m\u001b[38;5;241m.\u001b[39mlines))\n",
      "\u001b[0;31mFileNotFoundError\u001b[0m: [Errno 2] No such file or directory: '/tmp/ipykernel_93/39138626.py'"
     ]
    }
   ],
   "source": [
    "from numba import njit\n",
    "import numpy as np\n",
    "\n",
    "import pykokkos as pk \n",
    "pk.set_default_space(pk.OpenMP)\n",
    "\n",
    "@pk.workunit\n",
    "def daxpy_kernel(\n",
    "    tid: int, \n",
    "    start: int,\n",
    "    end: int,\n",
    "    out: pk.View1D[float],\n",
    "    a: float,\n",
    "    x: pk.View1D[float],\n",
    "    y: pk.View1D[float],\n",
    "    stride: int = 1\n",
    "):\n",
    "    for i in range(start+tid, end, stride):\n",
    "        out[i] = a * x[i] + y[i]\n",
    "        \n",
    "def daxpy(start: int, end: int, out, a: float, x, y):\n",
    "    num_threads = 1\n",
    "    pk.parallel_for(num_threads, daxpy_kernel, start=start, end=end, out=out, a=a, x=x, y=y, stride=num_threads)\n",
    "\n",
    "def compile_daxpy():\n",
    "    N = 100\n",
    "    x = np.random.rand(N)\n",
    "    y = np.random.rand(N)\n",
    "    out = np.empty_like(x)\n",
    "    daxpy(0, N, out, 2.0, x, y)\n",
    "\n",
    "\n",
    "compile_daxpy()\n",
    "\n",
    "\n",
    "async def daxpy_example():\n",
    "    N = 200000000\n",
    "    x = np.random.rand(N)\n",
    "    y = np.random.rand(N)\n",
    "    out = np.empty_like(x)\n",
    "    truth = np.empty_like(x)\n",
    "    a = 2.0\n",
    "    splits = 2\n",
    "\n",
    "    start_t = perf_counter()\n",
    "    # truth[:] = a * x[:] + y[:]\n",
    "    daxpy(0, N, truth, a, x, y)\n",
    "    end_t = perf_counter()\n",
    "    print(\"Reference: \", end_t - start_t)\n",
    "\n",
    "    start_t = perf_counter()\n",
    "    T = TaskSpace(\"Daxpy\")\n",
    "    for i in range(splits):\n",
    "\n",
    "        @spawn(T[i], placement=cpu, vcus=0)\n",
    "        def daxpy_task():\n",
    "            start = i * N // splits\n",
    "            end = (i + 1) * N // splits\n",
    "            # out[start:end] = a * x[start:end] + y[start:end]\n",
    "            daxpy(start, end, out, a, x, y)\n",
    "\n",
    "    @spawn(T[splits], dependencies=[T[:splits]], placement=cpu, vcus=0)\n",
    "    def check():\n",
    "        end_t = perf_counter()\n",
    "        print(\"Parla: \", end_t - start_t)\n",
    "        print(\"Check: \", np.allclose(out, truth))\n",
    "\n",
    "    await T\n",
    "\n",
    "\n",
    "run(daxpy_example)"
   ]
  },
  {
   "cell_type": "code",
   "execution_count": null,
   "metadata": {},
   "outputs": [],
   "source": [
    "async def spawn_example():\n",
    "    T = TaskSpace(\"My First TaskSpace\")\n",
    "\n",
    "    @spawn(T[1], dependencies=[T[0]])\n",
    "    def task_world():\n",
    "        print(\"World!\")\n",
    "\n",
    "    @spawn(T[0])\n",
    "    def task_hello():\n",
    "        print(\"Hello\", end=\" \")\n",
    "\n",
    "\n",
    "run(spawn_example)"
   ]
  }
 ],
 "metadata": {
  "kernelspec": {
   "display_name": "Python 3 (ipykernel)",
   "language": "python",
   "name": "python3"
  },
  "language_info": {
   "codemirror_mode": {
    "name": "ipython",
    "version": 3
   },
   "file_extension": ".py",
   "mimetype": "text/x-python",
   "name": "python",
   "nbconvert_exporter": "python",
   "pygments_lexer": "ipython3",
   "version": "3.11.7"
  }
 },
 "nbformat": 4,
 "nbformat_minor": 2
}
